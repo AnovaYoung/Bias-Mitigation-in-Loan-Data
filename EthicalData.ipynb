{
  "cells": [
    {
      "cell_type": "markdown",
      "metadata": {
        "id": "view-in-github",
        "colab_type": "text"
      },
      "source": [
        "<a href=\"https://colab.research.google.com/github/AnovaYoung/usd_projects/blob/main/EthicalData.ipynb\" target=\"_parent\"><img src=\"https://colab.research.google.com/assets/colab-badge.svg\" alt=\"Open In Colab\"/></a>"
      ]
    },
    {
      "cell_type": "markdown",
      "id": "e08b24f1",
      "metadata": {
        "id": "e08b24f1"
      },
      "source": [
        "# <div align=\"center\">Discover, Measure, and Mitigate Bias in a Dataset"
      ]
    },
    {
      "cell_type": "markdown",
      "id": "90fa8216",
      "metadata": {
        "id": "90fa8216"
      },
      "source": [
        "The idea of fairness within AI comes from the idea that not all data is created equal, whether it’s measuring human populations or words in a document. If an AI algorithm is measuring the potential risk within a contract or agreement, such as a loan approval,  the context matters. Fairness in a legal setting is measuring whether a public policy is being applied equally across different races, genders, ethnicities and so forth. Fairness in AI means planning for these differences in data to make the end result representative of the goal that developers are actually trying to have the AI process tackle. In assessing human and civil rights and individual and societal harms from AI systems, research indicates that many forms of bias occur at the data collection stage. As a result, practices and methods to introduce fairness metrics into AI development can identify unprivileged attributes and measure bias. Then, techniques can be introduced to mitigate bias and find fairness in the dataset.  Using applied ethical practices of fairness in AI processes can mitigate harms from bias and produce a more complete end product from the AI processes."
      ]
    },
    {
      "cell_type": "markdown",
      "id": "f1891017",
      "metadata": {
        "id": "f1891017"
      },
      "source": [
        "## Assignment Instructions\n",
        "The three sections of this tutorial will guide you through steps to illustrate how bias in loan data can be discovered, measured, and mitigated using code techiques and metrics. The  data comes from a hypothetical loan processing dataset. The techniques in this tutorial can be used to discover biased subgroups, determine the amount of bias, and mitigate this bias.\n",
        "<strong> Complete the tutorial steps in each section, and respond to the indicated questions </strong>"
      ]
    },
    {
      "cell_type": "markdown",
      "id": "2cb85119",
      "metadata": {
        "id": "2cb85119"
      },
      "source": [
        "<a href='#explore_dataset'>Part 1 DISCOVER IMBALANCE</a>\n",
        " 1. Import necessary libraries.\n",
        " 2. Load the loan approval dataset.\n",
        " 3. Explore the dataset characteristics to identify biased subgroups.<br>\n",
        "\n",
        "<strong>Respond to prompt: Q1</strong>\n",
        "\n",
        "<a href='#measure_bias'>Part 2 MEASURE BIAS</a><p></p>\n",
        "\n",
        "1. Statistical Parity\n",
        "2. Odds Ratio\n",
        "3. Equal Opportunity Difference\n",
        "4. Disparate Impact\n",
        "\n",
        "<strong>Respond to prompts: Q2, Q3, Q4</strong>\n",
        "\n",
        "<a href='#logistic_regression'>Part 3 MITIGATE BIAS</a><p></p>\n",
        "\n",
        "1. Run a Baseline Logistic Regression on the Unbalanced / Biased Data\n",
        "2. Run a Logistic Regression with Re-Weighting\n",
        "3. Generate Synthetic Samples with SMOTE\n",
        "4. Run a Logistic Regression with SMOTE\n",
        "5. Logistic Regression with SMOTE + Re-Weighting\n",
        "6. Aggregate Classification Reports for Comparison\n",
        "\n",
        "<strong>Respond to prompts: Q5, Q6, Q7, Q8, Q9 and Q10</strong>"
      ]
    },
    {
      "cell_type": "markdown",
      "id": "e3bedc7e",
      "metadata": {
        "id": "e3bedc7e"
      },
      "source": [
        "***"
      ]
    },
    {
      "cell_type": "markdown",
      "id": "2e15e302",
      "metadata": {
        "id": "2e15e302"
      },
      "source": [
        "# Part 1 DISCOVER IMBALANCE <a id='explore_data'></a>"
      ]
    },
    {
      "cell_type": "markdown",
      "id": "e1604dc6",
      "metadata": {
        "id": "e1604dc6"
      },
      "source": [
        "#### Import libraries"
      ]
    },
    {
      "cell_type": "code",
      "execution_count": null,
      "id": "7fd78631",
      "metadata": {
        "scrolled": true,
        "id": "7fd78631"
      },
      "outputs": [],
      "source": [
        "import pandas as pd\n",
        "import numpy as np\n",
        "import seaborn as sns\n",
        "import matplotlib.pyplot as plt\n",
        "from sklearn.preprocessing import LabelEncoder"
      ]
    },
    {
      "cell_type": "markdown",
      "id": "4b7a7e3d",
      "metadata": {
        "id": "4b7a7e3d"
      },
      "source": [
        "#### Load the dataset"
      ]
    },
    {
      "cell_type": "code",
      "execution_count": null,
      "id": "b2a64b1a",
      "metadata": {
        "id": "b2a64b1a"
      },
      "outputs": [],
      "source": [
        "#read data\n",
        "data = pd.read_csvdata = pd.read_csv(\"/Users/anovayoungers/Downloads/loan_approval_biased.csv\")\n",
        "\n",
        "# Clone the dataset\n",
        "data_clone = data.copy()\n"
      ]
    },
    {
      "cell_type": "code",
      "execution_count": null,
      "id": "083ca19d",
      "metadata": {
        "scrolled": true,
        "id": "083ca19d",
        "outputId": "24d7ae78-b920-4ad1-810d-8e14214a5692"
      },
      "outputs": [
        {
          "data": {
            "text/html": [
              "<div>\n",
              "<style scoped>\n",
              "    .dataframe tbody tr th:only-of-type {\n",
              "        vertical-align: middle;\n",
              "    }\n",
              "\n",
              "    .dataframe tbody tr th {\n",
              "        vertical-align: top;\n",
              "    }\n",
              "\n",
              "    .dataframe thead th {\n",
              "        text-align: right;\n",
              "    }\n",
              "</style>\n",
              "<table border=\"1\" class=\"dataframe\">\n",
              "  <thead>\n",
              "    <tr style=\"text-align: right;\">\n",
              "      <th></th>\n",
              "      <th>Loan_ID</th>\n",
              "      <th>Gender</th>\n",
              "      <th>Married</th>\n",
              "      <th>Dependents</th>\n",
              "      <th>Education</th>\n",
              "      <th>Self_Employed</th>\n",
              "      <th>ApplicantIncome</th>\n",
              "      <th>CoapplicantIncome</th>\n",
              "      <th>LoanAmount</th>\n",
              "      <th>Loan_Amount_Term</th>\n",
              "      <th>Credit_History</th>\n",
              "      <th>Property_Area</th>\n",
              "      <th>Loan_Status</th>\n",
              "    </tr>\n",
              "  </thead>\n",
              "  <tbody>\n",
              "    <tr>\n",
              "      <th>0</th>\n",
              "      <td>LP002317</td>\n",
              "      <td>Male</td>\n",
              "      <td>Yes</td>\n",
              "      <td>3+</td>\n",
              "      <td>Graduate</td>\n",
              "      <td>No</td>\n",
              "      <td>81000</td>\n",
              "      <td>0.0</td>\n",
              "      <td>360</td>\n",
              "      <td>360</td>\n",
              "      <td>0</td>\n",
              "      <td>Rural</td>\n",
              "      <td>Y</td>\n",
              "    </tr>\n",
              "    <tr>\n",
              "      <th>1</th>\n",
              "      <td>LP002101</td>\n",
              "      <td>Male</td>\n",
              "      <td>Yes</td>\n",
              "      <td>0</td>\n",
              "      <td>Graduate</td>\n",
              "      <td>No</td>\n",
              "      <td>63337</td>\n",
              "      <td>0.0</td>\n",
              "      <td>490</td>\n",
              "      <td>180</td>\n",
              "      <td>1</td>\n",
              "      <td>Urban</td>\n",
              "      <td>Y</td>\n",
              "    </tr>\n",
              "    <tr>\n",
              "      <th>2</th>\n",
              "      <td>LP001536</td>\n",
              "      <td>Male</td>\n",
              "      <td>Yes</td>\n",
              "      <td>3+</td>\n",
              "      <td>Graduate</td>\n",
              "      <td>No</td>\n",
              "      <td>39999</td>\n",
              "      <td>0.0</td>\n",
              "      <td>600</td>\n",
              "      <td>180</td>\n",
              "      <td>0</td>\n",
              "      <td>Semiurban</td>\n",
              "      <td>Y</td>\n",
              "    </tr>\n",
              "    <tr>\n",
              "      <th>3</th>\n",
              "      <td>LP001640</td>\n",
              "      <td>Male</td>\n",
              "      <td>Yes</td>\n",
              "      <td>0</td>\n",
              "      <td>Graduate</td>\n",
              "      <td>Yes</td>\n",
              "      <td>39147</td>\n",
              "      <td>4750.0</td>\n",
              "      <td>120</td>\n",
              "      <td>360</td>\n",
              "      <td>1</td>\n",
              "      <td>Semiurban</td>\n",
              "      <td>Y</td>\n",
              "    </tr>\n",
              "    <tr>\n",
              "      <th>4</th>\n",
              "      <td>LP002422</td>\n",
              "      <td>Male</td>\n",
              "      <td>No</td>\n",
              "      <td>1</td>\n",
              "      <td>Graduate</td>\n",
              "      <td>No</td>\n",
              "      <td>37719</td>\n",
              "      <td>0.0</td>\n",
              "      <td>152</td>\n",
              "      <td>360</td>\n",
              "      <td>1</td>\n",
              "      <td>Semiurban</td>\n",
              "      <td>Y</td>\n",
              "    </tr>\n",
              "  </tbody>\n",
              "</table>\n",
              "</div>"
            ],
            "text/plain": [
              "    Loan_ID Gender Married Dependents Education Self_Employed  \\\n",
              "0  LP002317   Male     Yes         3+  Graduate            No   \n",
              "1  LP002101   Male     Yes          0  Graduate            No   \n",
              "2  LP001536   Male     Yes         3+  Graduate            No   \n",
              "3  LP001640   Male     Yes          0  Graduate           Yes   \n",
              "4  LP002422   Male      No          1  Graduate            No   \n",
              "\n",
              "   ApplicantIncome  CoapplicantIncome  LoanAmount  Loan_Amount_Term  \\\n",
              "0            81000                0.0         360               360   \n",
              "1            63337                0.0         490               180   \n",
              "2            39999                0.0         600               180   \n",
              "3            39147             4750.0         120               360   \n",
              "4            37719                0.0         152               360   \n",
              "\n",
              "   Credit_History Property_Area Loan_Status  \n",
              "0               0         Rural           Y  \n",
              "1               1         Urban           Y  \n",
              "2               0     Semiurban           Y  \n",
              "3               1     Semiurban           Y  \n",
              "4               1     Semiurban           Y  "
            ]
          },
          "execution_count": 4,
          "metadata": {},
          "output_type": "execute_result"
        }
      ],
      "source": [
        "data_clone.head()"
      ]
    },
    {
      "cell_type": "code",
      "execution_count": null,
      "id": "68e738e2",
      "metadata": {
        "id": "68e738e2",
        "outputId": "f156b02a-548d-4b28-9c3f-e5c02640d8b4"
      },
      "outputs": [
        {
          "data": {
            "text/html": [
              "<div>\n",
              "<style scoped>\n",
              "    .dataframe tbody tr th:only-of-type {\n",
              "        vertical-align: middle;\n",
              "    }\n",
              "\n",
              "    .dataframe tbody tr th {\n",
              "        vertical-align: top;\n",
              "    }\n",
              "\n",
              "    .dataframe thead th {\n",
              "        text-align: right;\n",
              "    }\n",
              "</style>\n",
              "<table border=\"1\" class=\"dataframe\">\n",
              "  <thead>\n",
              "    <tr style=\"text-align: right;\">\n",
              "      <th></th>\n",
              "      <th>Loan_ID</th>\n",
              "      <th>Gender</th>\n",
              "      <th>Married</th>\n",
              "      <th>Dependents</th>\n",
              "      <th>Education</th>\n",
              "      <th>Self_Employed</th>\n",
              "      <th>ApplicantIncome</th>\n",
              "      <th>CoapplicantIncome</th>\n",
              "      <th>LoanAmount</th>\n",
              "      <th>Loan_Amount_Term</th>\n",
              "      <th>Credit_History</th>\n",
              "      <th>Property_Area</th>\n",
              "      <th>Loan_Status</th>\n",
              "    </tr>\n",
              "  </thead>\n",
              "  <tbody>\n",
              "    <tr>\n",
              "      <th>609</th>\n",
              "      <td>LP002949</td>\n",
              "      <td>Female</td>\n",
              "      <td>No</td>\n",
              "      <td>3+</td>\n",
              "      <td>Graduate</td>\n",
              "      <td>No</td>\n",
              "      <td>416</td>\n",
              "      <td>41667.0</td>\n",
              "      <td>350</td>\n",
              "      <td>180</td>\n",
              "      <td>1</td>\n",
              "      <td>Urban</td>\n",
              "      <td>N</td>\n",
              "    </tr>\n",
              "    <tr>\n",
              "      <th>610</th>\n",
              "      <td>LP002717</td>\n",
              "      <td>Male</td>\n",
              "      <td>Yes</td>\n",
              "      <td>0</td>\n",
              "      <td>Graduate</td>\n",
              "      <td>No</td>\n",
              "      <td>1025</td>\n",
              "      <td>5500.0</td>\n",
              "      <td>216</td>\n",
              "      <td>360</td>\n",
              "      <td>0</td>\n",
              "      <td>Rural</td>\n",
              "      <td>N</td>\n",
              "    </tr>\n",
              "    <tr>\n",
              "      <th>611</th>\n",
              "      <td>LP001259</td>\n",
              "      <td>Male</td>\n",
              "      <td>Yes</td>\n",
              "      <td>1</td>\n",
              "      <td>Graduate</td>\n",
              "      <td>Yes</td>\n",
              "      <td>1000</td>\n",
              "      <td>3022.0</td>\n",
              "      <td>110</td>\n",
              "      <td>360</td>\n",
              "      <td>1</td>\n",
              "      <td>Urban</td>\n",
              "      <td>N</td>\n",
              "    </tr>\n",
              "    <tr>\n",
              "      <th>612</th>\n",
              "      <td>LP001722</td>\n",
              "      <td>Male</td>\n",
              "      <td>Yes</td>\n",
              "      <td>0</td>\n",
              "      <td>Graduate</td>\n",
              "      <td>No</td>\n",
              "      <td>150</td>\n",
              "      <td>1800.0</td>\n",
              "      <td>135</td>\n",
              "      <td>360</td>\n",
              "      <td>1</td>\n",
              "      <td>Rural</td>\n",
              "      <td>N</td>\n",
              "    </tr>\n",
              "    <tr>\n",
              "      <th>613</th>\n",
              "      <td>LP002502</td>\n",
              "      <td>Female</td>\n",
              "      <td>Yes</td>\n",
              "      <td>2</td>\n",
              "      <td>Not Graduate</td>\n",
              "      <td>No</td>\n",
              "      <td>210</td>\n",
              "      <td>2917.0</td>\n",
              "      <td>98</td>\n",
              "      <td>360</td>\n",
              "      <td>1</td>\n",
              "      <td>Semiurban</td>\n",
              "      <td>N</td>\n",
              "    </tr>\n",
              "  </tbody>\n",
              "</table>\n",
              "</div>"
            ],
            "text/plain": [
              "      Loan_ID  Gender Married Dependents     Education Self_Employed  \\\n",
              "609  LP002949  Female      No         3+      Graduate            No   \n",
              "610  LP002717    Male     Yes          0      Graduate            No   \n",
              "611  LP001259    Male     Yes          1      Graduate           Yes   \n",
              "612  LP001722    Male     Yes          0      Graduate            No   \n",
              "613  LP002502  Female     Yes          2  Not Graduate            No   \n",
              "\n",
              "     ApplicantIncome  CoapplicantIncome  LoanAmount  Loan_Amount_Term  \\\n",
              "609              416            41667.0         350               180   \n",
              "610             1025             5500.0         216               360   \n",
              "611             1000             3022.0         110               360   \n",
              "612              150             1800.0         135               360   \n",
              "613              210             2917.0          98               360   \n",
              "\n",
              "     Credit_History Property_Area Loan_Status  \n",
              "609               1         Urban           N  \n",
              "610               0         Rural           N  \n",
              "611               1         Urban           N  \n",
              "612               1         Rural           N  \n",
              "613               1     Semiurban           N  "
            ]
          },
          "execution_count": 5,
          "metadata": {},
          "output_type": "execute_result"
        }
      ],
      "source": [
        "data_clone.tail()"
      ]
    },
    {
      "cell_type": "markdown",
      "id": "88ee7d91",
      "metadata": {
        "id": "88ee7d91"
      },
      "source": [
        "Review the column headers and attributes."
      ]
    },
    {
      "cell_type": "markdown",
      "id": "9ebaabe3",
      "metadata": {
        "id": "9ebaabe3"
      },
      "source": [
        "\n",
        "\n"
      ]
    },
    {
      "cell_type": "code",
      "execution_count": null,
      "id": "d4b40813",
      "metadata": {
        "id": "d4b40813",
        "outputId": "dbd8a4ce-baaf-4f95-add2-f2590dd692af"
      },
      "outputs": [
        {
          "name": "stdout",
          "output_type": "stream",
          "text": [
            "       ApplicantIncome  CoapplicantIncome  LoanAmount  Loan_Amount_Term  \\\n",
            "count       614.000000         614.000000  614.000000        614.000000   \n",
            "mean       5403.459283        1621.245798  156.050489        334.866450   \n",
            "std        6109.041673        2926.248369   99.128597         79.599764   \n",
            "min         150.000000           0.000000    9.000000         12.000000   \n",
            "25%        2877.500000           0.000000  100.250000        360.000000   \n",
            "50%        3812.500000        1188.500000  129.000000        360.000000   \n",
            "75%        5795.000000        2297.250000  175.000000        360.000000   \n",
            "max       81000.000000       41667.000000  700.000000        480.000000   \n",
            "\n",
            "       Credit_History  \n",
            "count      614.000000  \n",
            "mean         0.812704  \n",
            "std          0.390467  \n",
            "min          0.000000  \n",
            "25%          1.000000  \n",
            "50%          1.000000  \n",
            "75%          1.000000  \n",
            "max          1.000000  \n"
          ]
        }
      ],
      "source": [
        "print(data_clone.describe())"
      ]
    },
    {
      "cell_type": "markdown",
      "id": "c6a504c1",
      "metadata": {
        "id": "c6a504c1"
      },
      "source": [
        "<br>"
      ]
    },
    {
      "cell_type": "code",
      "execution_count": null,
      "id": "4f7a9009",
      "metadata": {
        "id": "4f7a9009",
        "outputId": "e622f26d-ca4f-40a2-ea32-051688e67a2f"
      },
      "outputs": [
        {
          "name": "stdout",
          "output_type": "stream",
          "text": [
            "Counts of each gender in the dataset\n",
            "Male      497\n",
            "Female    117\n",
            "Name: Gender, dtype: int64\n"
          ]
        }
      ],
      "source": [
        "# Count the number of males and females in the dataset\n",
        "gender_counts = data_clone['Gender'].value_counts()\n",
        "\n",
        "# Print the counts\n",
        "print(\"Counts of each gender in the dataset\")\n",
        "print(gender_counts)"
      ]
    },
    {
      "cell_type": "code",
      "execution_count": null,
      "id": "6be1e4c7",
      "metadata": {
        "id": "6be1e4c7"
      },
      "outputs": [],
      "source": [
        "# Create a label encoder object\n",
        "le = LabelEncoder()\n",
        "\n",
        "# List of columns to be label encoded\n",
        "label_encoded_columns = ['Gender', 'Married', 'Education', 'Self_Employed', 'Property_Area', 'Loan_Status']\n",
        "\n",
        "# Apply label encoding to each column of the cloned DataFrame\n",
        "for col in label_encoded_columns:\n",
        "    data_clone[col] = le.fit_transform(data_clone[col])\n"
      ]
    },
    {
      "cell_type": "code",
      "execution_count": null,
      "id": "08a16133",
      "metadata": {
        "id": "08a16133"
      },
      "outputs": [],
      "source": [
        "data_clone['Dependents'] = data_clone['Dependents'].replace('3+', 3)"
      ]
    },
    {
      "cell_type": "code",
      "execution_count": null,
      "id": "b809bb8a",
      "metadata": {
        "scrolled": true,
        "id": "b809bb8a",
        "outputId": "a8d84625-770b-4cf9-ae77-2e0aa5b34037"
      },
      "outputs": [
        {
          "data": {
            "text/html": [
              "<div>\n",
              "<style scoped>\n",
              "    .dataframe tbody tr th:only-of-type {\n",
              "        vertical-align: middle;\n",
              "    }\n",
              "\n",
              "    .dataframe tbody tr th {\n",
              "        vertical-align: top;\n",
              "    }\n",
              "\n",
              "    .dataframe thead th {\n",
              "        text-align: right;\n",
              "    }\n",
              "</style>\n",
              "<table border=\"1\" class=\"dataframe\">\n",
              "  <thead>\n",
              "    <tr style=\"text-align: right;\">\n",
              "      <th></th>\n",
              "      <th>Loan_ID</th>\n",
              "      <th>Gender</th>\n",
              "      <th>Married</th>\n",
              "      <th>Dependents</th>\n",
              "      <th>Education</th>\n",
              "      <th>Self_Employed</th>\n",
              "      <th>ApplicantIncome</th>\n",
              "      <th>CoapplicantIncome</th>\n",
              "      <th>LoanAmount</th>\n",
              "      <th>Loan_Amount_Term</th>\n",
              "      <th>Credit_History</th>\n",
              "      <th>Property_Area</th>\n",
              "      <th>Loan_Status</th>\n",
              "    </tr>\n",
              "  </thead>\n",
              "  <tbody>\n",
              "    <tr>\n",
              "      <th>0</th>\n",
              "      <td>LP002317</td>\n",
              "      <td>1</td>\n",
              "      <td>1</td>\n",
              "      <td>3</td>\n",
              "      <td>0</td>\n",
              "      <td>0</td>\n",
              "      <td>81000</td>\n",
              "      <td>0.0</td>\n",
              "      <td>360</td>\n",
              "      <td>360</td>\n",
              "      <td>0</td>\n",
              "      <td>0</td>\n",
              "      <td>1</td>\n",
              "    </tr>\n",
              "    <tr>\n",
              "      <th>1</th>\n",
              "      <td>LP002101</td>\n",
              "      <td>1</td>\n",
              "      <td>1</td>\n",
              "      <td>0</td>\n",
              "      <td>0</td>\n",
              "      <td>0</td>\n",
              "      <td>63337</td>\n",
              "      <td>0.0</td>\n",
              "      <td>490</td>\n",
              "      <td>180</td>\n",
              "      <td>1</td>\n",
              "      <td>2</td>\n",
              "      <td>1</td>\n",
              "    </tr>\n",
              "    <tr>\n",
              "      <th>2</th>\n",
              "      <td>LP001536</td>\n",
              "      <td>1</td>\n",
              "      <td>1</td>\n",
              "      <td>3</td>\n",
              "      <td>0</td>\n",
              "      <td>0</td>\n",
              "      <td>39999</td>\n",
              "      <td>0.0</td>\n",
              "      <td>600</td>\n",
              "      <td>180</td>\n",
              "      <td>0</td>\n",
              "      <td>1</td>\n",
              "      <td>1</td>\n",
              "    </tr>\n",
              "    <tr>\n",
              "      <th>3</th>\n",
              "      <td>LP001640</td>\n",
              "      <td>1</td>\n",
              "      <td>1</td>\n",
              "      <td>0</td>\n",
              "      <td>0</td>\n",
              "      <td>1</td>\n",
              "      <td>39147</td>\n",
              "      <td>4750.0</td>\n",
              "      <td>120</td>\n",
              "      <td>360</td>\n",
              "      <td>1</td>\n",
              "      <td>1</td>\n",
              "      <td>1</td>\n",
              "    </tr>\n",
              "    <tr>\n",
              "      <th>4</th>\n",
              "      <td>LP002422</td>\n",
              "      <td>1</td>\n",
              "      <td>0</td>\n",
              "      <td>1</td>\n",
              "      <td>0</td>\n",
              "      <td>0</td>\n",
              "      <td>37719</td>\n",
              "      <td>0.0</td>\n",
              "      <td>152</td>\n",
              "      <td>360</td>\n",
              "      <td>1</td>\n",
              "      <td>1</td>\n",
              "      <td>1</td>\n",
              "    </tr>\n",
              "  </tbody>\n",
              "</table>\n",
              "</div>"
            ],
            "text/plain": [
              "    Loan_ID  Gender  Married Dependents  Education  Self_Employed  \\\n",
              "0  LP002317       1        1          3          0              0   \n",
              "1  LP002101       1        1          0          0              0   \n",
              "2  LP001536       1        1          3          0              0   \n",
              "3  LP001640       1        1          0          0              1   \n",
              "4  LP002422       1        0          1          0              0   \n",
              "\n",
              "   ApplicantIncome  CoapplicantIncome  LoanAmount  Loan_Amount_Term  \\\n",
              "0            81000                0.0         360               360   \n",
              "1            63337                0.0         490               180   \n",
              "2            39999                0.0         600               180   \n",
              "3            39147             4750.0         120               360   \n",
              "4            37719                0.0         152               360   \n",
              "\n",
              "   Credit_History  Property_Area  Loan_Status  \n",
              "0               0              0            1  \n",
              "1               1              2            1  \n",
              "2               0              1            1  \n",
              "3               1              1            1  \n",
              "4               1              1            1  "
            ]
          },
          "execution_count": 10,
          "metadata": {},
          "output_type": "execute_result"
        }
      ],
      "source": [
        "data_clone.head()"
      ]
    },
    {
      "cell_type": "markdown",
      "id": "fde283e3",
      "metadata": {
        "id": "fde283e3"
      },
      "source": [
        "#### Determine the loan approval rates by gender. (0 = Female, 1 = Male)"
      ]
    },
    {
      "cell_type": "code",
      "execution_count": null,
      "id": "70bdd7c2",
      "metadata": {
        "id": "70bdd7c2",
        "outputId": "bfe2eac7-04da-4248-ce89-655103c138d8"
      },
      "outputs": [
        {
          "name": "stdout",
          "output_type": "stream",
          "text": [
            "1    217\n",
            "0      2\n",
            "Name: Gender, dtype: int64\n"
          ]
        }
      ],
      "source": [
        "# Filter for approved loans\n",
        "approved_loans = data_clone[data_clone['Loan_Status'] == 1]\n",
        "\n",
        "# Count the number of approved loans for each gender\n",
        "gender_approval_counts = approved_loans['Gender'].value_counts()\n",
        "\n",
        "print(gender_approval_counts)"
      ]
    },
    {
      "cell_type": "markdown",
      "id": "ab0d749a",
      "metadata": {
        "id": "ab0d749a"
      },
      "source": [
        "#### Create Correlation Heatmap to examine data for bias"
      ]
    },
    {
      "cell_type": "code",
      "execution_count": null,
      "id": "3ae20d03",
      "metadata": {
        "id": "3ae20d03",
        "outputId": "c5aa6899-1051-449f-e388-59a3d1dd9e52"
      },
      "outputs": [
        {
          "data": {
            "image/png": "[encoded data removed]",
            "text/plain": [
              "<Figure size 640x480 with 2 Axes>"
            ]
          },
          "metadata": {},
          "output_type": "display_data"
        }
      ],
      "source": [
        "eda_data = data.copy()\n",
        "\n",
        "# Convert 'Gender' to numeric for visualization purposes only\n",
        "# **Be mindful when converting \"F\" and \"M\" to 0 and 1. Converting gender to a binary can oversimplify a\n",
        "# multidimensional aspect of human identity, could potentially reinforce stereotypes, and create a\n",
        "# hierarcy.**\n",
        "\n",
        "eda_data['Gender'] = eda_data['Gender'].map({'Female': 0, 'Male': 1})\n",
        "\n",
        "# convert for heatmap\n",
        "gender_stat = {\"Female\": 0, \"Male\": 1}\n",
        "yes_no_stat = {\"No\" : 0,\"Yes\" : 1}\n",
        "dependents_stat = {\"0\":0,\"1\":1,\"2\":2,\"3+\":3}\n",
        "education_stat = {\"Not Graduate\" : 0, \"Graduate\" : 1}\n",
        "property_stat = {\"Semiurban\" : 0, \"Urban\" : 1,\"Rural\" : 2}\n",
        "status_stat = {\"N\" : 0, \"Y\" : 1}\n",
        "\n",
        "eda_data[\"Gender\"] = eda_data[\"Gender\"].replace(gender_stat)\n",
        "eda_data[\"Married\"] = eda_data[\"Married\"].replace(yes_no_stat)\n",
        "eda_data[\"Dependents\"] = eda_data[\"Dependents\"].replace(dependents_stat)\n",
        "eda_data[\"Education\"] = eda_data[\"Education\"].replace(education_stat)\n",
        "eda_data[\"Self_Employed\"] = eda_data[\"Self_Employed\"].replace(yes_no_stat)\n",
        "eda_data[\"Property_Area\"] = eda_data[\"Property_Area\"].replace(property_stat)\n",
        "eda_data[\"Loan_Status\"] = eda_data[\"Loan_Status\"].replace(status_stat)\n",
        "\n",
        "sns.heatmap(eda_data.corr(numeric_only=True), annot=True, fmt=\".2f\", cmap=\"PuBuGn\")\n",
        "plt.title(\"Heatmap Correlation in Biased Loan Approval Dataset\")\n",
        "plt.show()"
      ]
    },
    {
      "cell_type": "markdown",
      "id": "fd0ec801",
      "metadata": {
        "id": "fd0ec801"
      },
      "source": [
        "***"
      ]
    },
    {
      "cell_type": "markdown",
      "id": "d2f9e31f",
      "metadata": {
        "id": "d2f9e31f"
      },
      "source": [
        "### Q1 Based on the Correlation Heatmap, which observations can you make?\n",
        "<p><font color='blue'>Graded cell &#9658;</font></p>"
      ]
    },
    {
      "cell_type": "markdown",
      "id": "6501b72b",
      "metadata": {
        "id": "6501b72b"
      },
      "source": [
        "Response: Based on the provided correlation heatmap of the biased loan approval dataset, several observations can be made. The heatmap shows a relatively strong positive correlation between 'Married' status and the number of 'Dependents', suggesting that married applicants are likely to have more dependents. There is also a noteworthy positive correlation between 'ApplicantIncome' and 'LoanAmount', indicating that applicants with higher incomes tend to apply for larger loan amounts. This is intuitive, as individuals with greater income might have higher financial commitments or credit confidence. A significant positive correlation is observed between 'Credit_History'and 'Loan_Status' which underscores the impact of credit history on loan approval decisions. Interestingly, 'Loan_Amount_Term'does not show strong correlations with other variables, suggesting that the term of the loan is relatively independent of applicant characteristics in this dataset. Notably,'Gender' has a moderate positive correlation with 'Loan_Status'' hinting at a potential gender bias in loan approvals. The presence of such correlations warrants further investigation into the fairness of the loan approval process, as these correlations may reflect underlying biases in the decision-making process."
      ]
    },
    {
      "cell_type": "markdown",
      "id": "9822ed67",
      "metadata": {
        "id": "9822ed67"
      },
      "source": [
        "***"
      ]
    },
    {
      "cell_type": "markdown",
      "id": "fb776bd5",
      "metadata": {
        "id": "fb776bd5"
      },
      "source": [
        "# PART 2: MEASURE THE BIAS <a id='measure_bias'></a>"
      ]
    },
    {
      "cell_type": "markdown",
      "id": "59e8cbd4",
      "metadata": {
        "id": "59e8cbd4"
      },
      "source": [
        "In Part 2 you will examine four methods to measure bias in a dataset.\n",
        "\n",
        "1. Statistial Parity  \n",
        "2. Odds Ratio\n",
        "3. Equal Opportunity Difference\n",
        "4. Disparate Impact\n"
      ]
    },
    {
      "cell_type": "markdown",
      "id": "fe35a06d",
      "metadata": {
        "id": "fe35a06d"
      },
      "source": [
        "### Statistical Parity\n",
        "\n",
        "Statistical parity is the concept where a particular outcome or benefit is equally distributed across all groups in a population.  Simply put, it is a measurement of the difference in probabilities of a positive outcome across two groups. In an ideal and fair world, a statistical parity of 0 would be seen as ideal as it would indicate that there is no disparity in outcomes."
      ]
    },
    {
      "cell_type": "code",
      "execution_count": null,
      "id": "a1033c2e",
      "metadata": {
        "id": "a1033c2e"
      },
      "outputs": [],
      "source": [
        "# Filter the dataset for approved loans\n",
        "approved_loans = data_clone[data_clone['Loan_Status'] == 1]\n",
        "\n",
        "# Calculate the counts of approved loans for each gender\n",
        "approved_counts = approved_loans['Gender'].value_counts()\n"
      ]
    },
    {
      "cell_type": "code",
      "execution_count": null,
      "id": "aa1adc2c",
      "metadata": {
        "scrolled": true,
        "id": "aa1adc2c",
        "outputId": "a6fc6259-91c3-4ae9-d48c-9492e3107975"
      },
      "outputs": [
        {
          "name": "stdout",
          "output_type": "stream",
          "text": [
            "1    497\n",
            "0    117\n",
            "Name: Gender, dtype: int64\n",
            "Loan Approval Rate for Males: 0.44\n",
            "Loan Approval Rate for Females: 0.02\n",
            "Difference in Approval Rates: 0.42\n"
          ]
        }
      ],
      "source": [
        "#calculate the total counts for each gender\n",
        "gender_counts = data_clone['Gender'].value_counts()\n",
        "print(gender_counts)\n",
        "\n",
        "# Now, calculate the approval rates\n",
        "approval_rate_male = approved_counts[1] / gender_counts[1]  # 1 is Male\n",
        "approval_rate_female = approved_counts[0] / gender_counts[0]  # 0 is Female\n",
        "\n",
        "# Print the approval rates\n",
        "print(f\"Loan Approval Rate for Males: {approval_rate_male:.2f}\")\n",
        "print(f\"Loan Approval Rate for Females: {approval_rate_female:.2f}\")\n",
        "\n",
        "# Compare the rates to check for statistical parity\n",
        "parity_difference = abs(approval_rate_male - approval_rate_female)\n",
        "print(f\"Difference in Approval Rates: {parity_difference:.2f}\")\n"
      ]
    },
    {
      "cell_type": "markdown",
      "id": "c9d6e61e",
      "metadata": {
        "id": "c9d6e61e"
      },
      "source": [
        "### Odds Ratio"
      ]
    },
    {
      "cell_type": "markdown",
      "id": "d283a7cb",
      "metadata": {
        "id": "d283a7cb"
      },
      "source": [
        "The odds ratio is a measure of association between an exposure and an outcome. In the context of loan approvals for this dataset, it would be the ratio of the odds of a loan being approved for females to the odds of a loan being approved for males.\n",
        "\n",
        "The odds of approval are calculated as the ratio of loans approved to those not approved. For instance, if 20 loans are approved and 80 are not, the odds of approval would be 20/80 or 0.25.\n",
        "\n",
        "To calculate the odds ratio (OR):\n",
        "\n",
        "OR = Odds Female / Odds Male\n",
        "\n",
        "If OR > 1, it implies higher odds of approval for females; OR < 1 implies lower odds of approval for females compared to males."
      ]
    },
    {
      "cell_type": "code",
      "execution_count": null,
      "id": "1749b3c4",
      "metadata": {
        "id": "1749b3c4",
        "outputId": "b1fcb64e-f9e4-422d-8033-d8b4bf98176a"
      },
      "outputs": [
        {
          "name": "stdout",
          "output_type": "stream",
          "text": [
            "Odds Ratio: 0.022440392706872377\n"
          ]
        }
      ],
      "source": [
        "# calculate odds for each gender\n",
        "odds_female = data_clone[data_clone['Gender'] == 0]['Loan_Status'].mean() / (1 - data_clone[data_clone['Gender'] == 0]['Loan_Status'].mean())\n",
        "odds_male = data_clone[data_clone['Gender'] == 1]['Loan_Status'].mean() / (1 - data_clone[data_clone['Gender'] == 1]['Loan_Status'].mean())\n",
        "\n",
        "# Calculate Odds Ratio\n",
        "odds_ratio = odds_female / odds_male\n",
        "\n",
        "# Print results\n",
        "print(f\"Odds Ratio: {odds_ratio}\")\n",
        "\n"
      ]
    },
    {
      "cell_type": "markdown",
      "id": "4881aefe",
      "metadata": {
        "id": "4881aefe"
      },
      "source": [
        "### Eqaual Opportunity Difference (EOD)"
      ]
    },
    {
      "cell_type": "markdown",
      "id": "a2e3a50f",
      "metadata": {
        "id": "a2e3a50f"
      },
      "source": [
        "Equal opportunity difference is a fairness metric that measures the difference in the true positive rates (sensitivity) between two groups. In this dataset, it is the difference in the rate at which loans are correctly approved for females and males.\n",
        "\n",
        "To calculate equal opportunity difference (EOD):\n",
        "\n",
        "EOD = TPRfemale - TPRmale\n",
        "\n",
        "Here, TPR (True Positive Rate) is the proportion of actual positives that are correctly identified as such (e.g., the proportion of qualified loan applicants who are correctly approved).\n",
        "\n",
        "If EOD is zero, there is no disparity in approval rates between genders; if EOD is positive, females have a higher rate of correct approval; if EOD is negative, males have a higher rate of correct approval."
      ]
    },
    {
      "cell_type": "code",
      "execution_count": null,
      "id": "8493efb1",
      "metadata": {
        "id": "8493efb1",
        "outputId": "521dc052-c757-46d4-bbed-2c12fc41fd1e"
      },
      "outputs": [
        {
          "name": "stdout",
          "output_type": "stream",
          "text": [
            "Equal Opportunity Difference: -0.41952570121584204\n"
          ]
        }
      ],
      "source": [
        "\n",
        "# Calculate True Positive Rates for each gender\n",
        "tpr_female = data_clone[(data_clone['Gender'] == 0) & (data_clone['Loan_Status'] == 1)].shape[0] / data_clone[data_clone['Gender'] == 0].shape[0]\n",
        "tpr_male = data_clone[(data_clone['Gender'] == 1) & (data_clone['Loan_Status'] == 1)].shape[0] / data_clone[data_clone['Gender'] == 1].shape[0]\n",
        "\n",
        "# Calculate Equal Opportunity Difference\n",
        "equal_opportunity_difference = tpr_female - tpr_male\n",
        "\n",
        "# Print results\n",
        "print(f\"Equal Opportunity Difference: {equal_opportunity_difference}\")"
      ]
    },
    {
      "cell_type": "markdown",
      "id": "8c89990b",
      "metadata": {
        "id": "8c89990b"
      },
      "source": [
        "## Disparate Impact"
      ]
    },
    {
      "cell_type": "markdown",
      "id": "c9b6b0c9",
      "metadata": {
        "id": "c9b6b0c9"
      },
      "source": [
        "\n",
        "Disparate impact refers to a concept used primarily in employment and anti-discrimination law, though it also applies to other areas such as housing and lending. It occurs when a seemingly neutral policy, criterion, or practice has a disproportionately negative effect on a specific group of people, particularly when that group is defined by characteristics such as race, gender, age, or disability, even when there is no intential discrimination.\n"
      ]
    },
    {
      "cell_type": "markdown",
      "id": "013988bf",
      "metadata": {
        "id": "013988bf"
      },
      "source": [
        "#### Loan_Approval Disparate Impact (DI) in Females\n",
        "The industry standard for determining disparate impact in loan approvals often revolves around  a rule know as the 80% rule, or four-fifths rule. (This guideline is used in the United States by the Equal Employment Opportunity Commission and is often referenced in other areas such as lending practices under fair lending laws.)\n",
        "\n",
        "*Important to note that is a guideline, not a law in lending."
      ]
    },
    {
      "cell_type": "markdown",
      "id": "d7b8dd4c",
      "metadata": {
        "id": "d7b8dd4c"
      },
      "source": [
        "#### Initial Approval Rates by Gender"
      ]
    },
    {
      "cell_type": "code",
      "execution_count": null,
      "id": "c57093cc",
      "metadata": {
        "scrolled": true,
        "id": "c57093cc",
        "outputId": "d0e413c1-2782-4930-9c10-e7b4cce43bc3"
      },
      "outputs": [
        {
          "name": "stdout",
          "output_type": "stream",
          "text": [
            "Initial Approval Rates by Gender:Female = 0, Male = 1\n",
            "Gender\n",
            "0    0.017094\n",
            "1    0.436620\n",
            "Name: Loan_Status, dtype: float64\n"
          ]
        }
      ],
      "source": [
        "# Calculate initial approval rates by gender\n",
        "approval_rates = data_clone.groupby('Gender')['Loan_Status'].mean()\n",
        "\n",
        "# Print initial approval rates\n",
        "print(\"Initial Approval Rates by Gender:Female = 0, Male = 1\")\n",
        "print(approval_rates)"
      ]
    },
    {
      "cell_type": "code",
      "execution_count": null,
      "id": "28737b2a",
      "metadata": {
        "id": "28737b2a",
        "outputId": "8dd2f5df-f5b2-4f36-b05d-0daeadc3dbc5"
      },
      "outputs": [
        {
          "name": "stdout",
          "output_type": "stream",
          "text": [
            "Initial Disparate Impact\n",
            "0.03915081334436174\n"
          ]
        }
      ],
      "source": [
        "# Calculate initial disparate impact\n",
        "\n",
        "#approval rates of females / approval rates of males\n",
        "initial_di = approval_rates[0] / approval_rates[1]\n",
        "\n",
        "print(\"Initial Disparate Impact\")\n",
        "print(initial_di)"
      ]
    },
    {
      "cell_type": "markdown",
      "id": "71047942",
      "metadata": {
        "id": "71047942"
      },
      "source": [
        "### Q2 After examining the results of the statistical parity, the odds ratio, the equal opportunity distance, and the disparate impact, what can you conclude from the data?\n",
        "<p>Graded cell &#9658;</p>"
      ]
    },
    {
      "cell_type": "markdown",
      "id": "d45beae2",
      "metadata": {
        "id": "d45beae2"
      },
      "source": [
        "Response:\n",
        "\n",
        "The analysis of the bias measurement methods reveals a considerable gender bias in the loan approval process within the dataset. Starting with statistical parity, we observe a striking difference in approval rates: males have an approval rate of 44%, whereas females have an approval rate of only 2%, yielding a difference of 42%. This disparity suggests that the likelihood of getting a loan approved is substantially skewed in favor of male applicants.\n",
        "\n",
        "The odds ratio further quantifies the association between gender and loan approval. With an odds ratio of approximately 0.022, the odds of loan approval for females are significantly lower than for males. In practical terms, this means that the chance of a loan being approved for a female applicant is only about 2.2% of the approval chance for a male, which is alarmingly low and signals strong gender bias.\n",
        "\n",
        "Looking at the equal opportunity difference, which measures the true positive rates, we find a negative value of approximately -0.42. This indicates that males have a much higher rate of correct loan approvals compared to females, reinforcing the conclusion that the system is unfairly biased against female applicants.\n",
        "\n",
        "Finally, the disparate impact measure, with a value of approximately 0.039, is far below the 0.8 threshold of the four-fifths rule. This suggests a severe disparate impact on female applicants, as their approval rate is less than 4% of the approval rate for males. Such a low value is a clear indicator of bias and could be considered discriminatory under certain anti-discrimination standards.\n",
        "\n",
        "All four metrics point to the same conclusion: there is a pronounced gender-based bias in the loan approval process as per the given dataset, which poses serious fairness and ethical concerns."
      ]
    },
    {
      "cell_type": "markdown",
      "id": "b89c8093",
      "metadata": {
        "id": "b89c8093"
      },
      "source": [
        "### Q3. Which types of potential bias can you identify in this loan approval dataset? Provide specific examples and explain how the bias you identified is reflected in the data.\n",
        "<p>Graded cell &#9658;</p>"
      ]
    },
    {
      "cell_type": "markdown",
      "id": "0a8b1390",
      "metadata": {
        "id": "0a8b1390"
      },
      "source": [
        "Response:\n",
        "\n",
        "Gender Bias: This is the most evident form of bias in the dataset. For example, the statistical parity shows a large gap in loan approval rates between genders, with a 42% difference favoring males over females. This suggests that the dataset, or the process leading to these outcomes, might be affected by gender bias where one gender is favored over the other in loan approvals.\n",
        "\n",
        "Selection Bias: Given the substantial differences in approval rates between different groups, there's a possibility that the data collection process may have inherent selection biases. For instance, if the dataset primarily includes males with certain favorable attributes that are not as common in females, it could skew the approval rates observed.\n",
        "\n",
        "Algorithmic Bias: If the model trained on this dataset learns from the biased approval rates, the algorithm itself may perpetuate or even amplify this bias. The odds ratio and equal opportunity difference support this, showing that females are significantly less likely to have loans approved compared to males, which could be a result of the algorithm disproportionately weighing certain features that disadvantage female applicants.\n",
        "\n",
        "Historical Bias: The data may reflect historical inequalities in loan approvals. For instance, if historically, certain demographics (like males in this and many instances) have been more likely to be approved for loans due to societal norms or discrimination, the model will likely continue this trend unless corrective measures are taken.\n",
        "\n",
        "Confirmation Bias: If loan officers are making decisions that contribute to this data, they may be influenced by confirmation bias. This means they could be more likely to approve loans for individuals who fit their preconceived notions of \"creditworthiness,\" which might often be males, as suggested by the higher approval rates."
      ]
    },
    {
      "cell_type": "markdown",
      "id": "7be8fb1a",
      "metadata": {
        "id": "7be8fb1a"
      },
      "source": [
        "### Q4. If unaddressed, how can the biases you identified affect: a.) individuals, b.) enterprises, and c.) society?\n",
        "<p>Graded cells &#9658;</p>\n"
      ]
    },
    {
      "cell_type": "markdown",
      "id": "86c70fe7",
      "metadata": {
        "id": "86c70fe7"
      },
      "source": [
        "Response:[Individuals]\n",
        "\n",
        "For applicants, these biases can lead to unfair treatment, where equally qualified individuals receive different outcomes based on gender. This can affect an individual's ability to obtain housing, education, or start a business -- impacting their economic stability and future opportunities."
      ]
    },
    {
      "cell_type": "markdown",
      "id": "b9a4dc71",
      "metadata": {
        "id": "b9a4dc71"
      },
      "source": [
        "Response:[Organizations]\n",
        "\n",
        " Businesses that rely on this biased AI system for loan approvals may inadvertently engage in discriminatory practices, which can lead to legal repercussions and damage to their reputation. Moreover, they may miss out on profitable ventures by overlooking qualified applicants due to biased assessments."
      ]
    },
    {
      "cell_type": "markdown",
      "id": "5ca8e6e3",
      "metadata": {
        "id": "5ca8e6e3"
      },
      "source": [
        "Response:[Society]\n",
        "\n",
        "At a societal level, systemic bias can exacerbate already prevalent socio-economic divides. If certain demographics are consistently denied loans, it can hinder the overall economic development of these groups, perpetuate poverty cycles, and contribute to social stratification. Moreover, it undermines public trust in financial institutions and technology(which already sits precariously), potentially slowing down innovation adoption due to ethical concerns."
      ]
    },
    {
      "cell_type": "markdown",
      "id": "67743d37",
      "metadata": {
        "id": "67743d37"
      },
      "source": [
        "***"
      ]
    },
    {
      "cell_type": "markdown",
      "id": "0fb73921",
      "metadata": {
        "id": "0fb73921"
      },
      "source": [
        "# Part 3 MITIGATE THE BIAS <a id='logistic_regression'></a>"
      ]
    },
    {
      "cell_type": "markdown",
      "id": "c97b6410",
      "metadata": {
        "id": "c97b6410"
      },
      "source": [
        "In this portion of the assignment, you will assess the impact of re-weighting, generating synthetic samples (with SMOTE), and a combining re-weighting and synthetic samples on a logistic regression. You will then assess performance and the trade-offs through comparison of their evaluation metrics.\n",
        "***\n",
        "1. Run a Baseline Logistic Regression on the Unbalanced / Biased Data\n",
        "2. Run a Logistic Regression with Re-Weighting\n",
        "3. Generate Synthetic Samples with SMOTE\n",
        "4. Run a Logistic Regression with SMOTE\n",
        "5. Logistic Regression with SMOTE + Re-Weighting\n",
        "6. Aggregate Classification Reports for Comparison"
      ]
    },
    {
      "cell_type": "markdown",
      "id": "6b4d1a7d",
      "metadata": {
        "id": "6b4d1a7d"
      },
      "source": [
        "### Run a Baseline Logistic Regression on the Unbalanced / Biased Data"
      ]
    },
    {
      "cell_type": "code",
      "execution_count": null,
      "id": "4d7ffbb9",
      "metadata": {
        "id": "4d7ffbb9"
      },
      "outputs": [],
      "source": [
        "from sklearn.linear_model import LogisticRegression\n",
        "from sklearn.model_selection import train_test_split\n",
        "from sklearn.metrics import classification_report, confusion_matrix\n"
      ]
    },
    {
      "cell_type": "code",
      "execution_count": null,
      "id": "880b7761",
      "metadata": {
        "id": "880b7761",
        "outputId": "d738b3e8-41a7-42f9-8f0a-2695e13aef94"
      },
      "outputs": [
        {
          "name": "stdout",
          "output_type": "stream",
          "text": [
            "              precision    recall  f1-score   support\n",
            "\n",
            "           0       0.85      0.93      0.89        75\n",
            "           1       0.88      0.75      0.81        48\n",
            "\n",
            "    accuracy                           0.86       123\n",
            "   macro avg       0.87      0.84      0.85       123\n",
            "weighted avg       0.86      0.86      0.86       123\n",
            "\n"
          ]
        }
      ],
      "source": [
        "# Define your features (X) and target variable (y)\n",
        "X = data_clone.drop(['Loan_ID', 'Loan_Status'], axis=1)\n",
        "y = data_clone['Loan_Status']\n",
        "\n",
        "# Split the data into training and test sets\n",
        "X_train, X_test, y_train, y_test = train_test_split(X, y, test_size=0.2, random_state=531)\n",
        "\n",
        "# Train a logistic regression model on the original data\n",
        "logreg = LogisticRegression(max_iter=10000)\n",
        "logreg.fit(X_train, y_train)\n",
        "\n",
        "# Evaluate the model\n",
        "y_pred = logreg.predict(X_test)\n",
        "print(classification_report(y_test, y_pred))\n"
      ]
    },
    {
      "cell_type": "markdown",
      "id": "d97915f0",
      "metadata": {
        "id": "d97915f0"
      },
      "source": [
        "### Run a Logistic Regression with Re-Weighting"
      ]
    },
    {
      "cell_type": "markdown",
      "id": "38340a53",
      "metadata": {
        "id": "38340a53"
      },
      "source": [
        "<p><font color='blue'>Graded cell &#9658;</font></p>"
      ]
    },
    {
      "cell_type": "code",
      "execution_count": null,
      "id": "d3f92da0",
      "metadata": {
        "id": "d3f92da0"
      },
      "outputs": [],
      "source": [
        "\n",
        "#Approval Rate for Females before re-weighting = 1.7094%\n",
        "#Approval Rate for Males before re-weighting = 43.6620%\n",
        "\n",
        "#DI equation: Pr(Y=1 | D=unprivileged) / Pr(Y=1 | D=privileged)\n",
        "\n",
        "#plugging the numbers in ---> new weight for females = (0.8 * 43.6620%) / 1.7094  ≈ 20.5\n",
        "\n",
        "\n",
        "# Define the class weights for re-weighting\n",
        "# It could potentially be worthwhile to try different weights\n",
        "class_weights = {0: 20.5, 1: 1}  # (Re-weight females)\n",
        "\n",
        "# Create the logistic regression model with class weights\n",
        "\n",
        "\n"
      ]
    },
    {
      "cell_type": "markdown",
      "id": "b83df540",
      "metadata": {
        "id": "b83df540"
      },
      "source": [
        "# Generate Synthetic Samples with SMOTE"
      ]
    },
    {
      "cell_type": "markdown",
      "id": "ae94e22a",
      "metadata": {
        "id": "ae94e22a"
      },
      "source": [
        "### Using SMOTE to generate synthetic samples from the minority class (females) to help balance the data.\n",
        "    "
      ]
    },
    {
      "cell_type": "markdown",
      "id": "14e22f38",
      "metadata": {
        "id": "14e22f38"
      },
      "source": [
        "SMOTE (Synthetic Minority Over-sampling Technique) is an oversampling method to balance datasets. It works by creating synthetic samples from the minority class (in this case, 'Female' if we consider 'Gender' for minority oversampling, or 'N' for 'Loan_Status' if we are considering the outcome) instead of creating copies. This is done by randomly picking a point from the minority class and computing the k-nearest neighbors for this point. The synthetic points are added between the chosen point and its neighbors."
      ]
    },
    {
      "cell_type": "markdown",
      "id": "740e6fd1",
      "metadata": {
        "id": "740e6fd1"
      },
      "source": [
        "1.) Before applying SMOTE, the dataset should be split into training and testing sets.\n",
        "\n",
        "2.) SMOTE should only be applied to the training set.(SMOTE generates synthetic samples based on the existing minority\n",
        "    class in the data applying it to your test set would introduce synthetic data into the set that you'll use for\n",
        "    validation, which can lead to overly inflated performance estimates.)"
      ]
    },
    {
      "cell_type": "code",
      "execution_count": null,
      "id": "e0f2582a",
      "metadata": {
        "id": "e0f2582a"
      },
      "outputs": [],
      "source": [
        "from imblearn.over_sampling import SMOTE"
      ]
    },
    {
      "cell_type": "code",
      "execution_count": null,
      "id": "a846a076",
      "metadata": {
        "id": "a846a076"
      },
      "outputs": [],
      "source": [
        "# Split the data into training and test sets\n",
        "X_train, X_test, y_train, y_test = train_test_split(X, y, test_size=0.2, random_state=531)\n",
        "\n",
        "# Apply SMOTE to the training data only!\n",
        "smote = SMOTE(random_state=531)\n",
        "X_train_smote, y_train_smote = smote.fit_resample(X_train, y_train)\n"
      ]
    },
    {
      "cell_type": "markdown",
      "id": "122cab5b",
      "metadata": {
        "id": "122cab5b"
      },
      "source": [
        "# Run a Logistic Regression with SMOTE"
      ]
    },
    {
      "cell_type": "markdown",
      "id": "9841c372",
      "metadata": {
        "id": "9841c372"
      },
      "source": [
        "<p><font color='blue'>Graded cell &#9658;</font></p>"
      ]
    },
    {
      "cell_type": "code",
      "execution_count": null,
      "id": "c494d886",
      "metadata": {
        "id": "c494d886",
        "outputId": "33009f9f-cac7-4d11-ff09-1f69e2015054"
      },
      "outputs": [
        {
          "name": "stdout",
          "output_type": "stream",
          "text": [
            "              precision    recall  f1-score   support\n",
            "\n",
            "     Class 0       0.89      0.77      0.83        75\n",
            "     Class 1       0.71      0.85      0.77        48\n",
            "\n",
            "    accuracy                           0.80       123\n",
            "   macro avg       0.80      0.81      0.80       123\n",
            "weighted avg       0.82      0.80      0.81       123\n",
            "\n"
          ]
        }
      ],
      "source": [
        "# Train a logistic regression model on the SMOTE data\n",
        "\n",
        "from sklearn.model_selection import train_test_split\n",
        "from imblearn.over_sampling import SMOTE\n",
        "from sklearn.linear_model import LogisticRegression\n",
        "from sklearn.metrics import classification_report\n",
        "\n",
        "\n",
        "X_train, X_test, y_train, y_test = train_test_split(X, y, test_size=0.2, random_state=531)\n",
        "\n",
        "smote = SMOTE(random_state=531)\n",
        "X_train_smote, y_train_smote = smote.fit_resample(X_train, y_train)\n",
        "\n",
        "model = LogisticRegression()\n",
        "model.fit(X_train_smote, y_train_smote)\n",
        "\n",
        "y_pred = model.predict(X_test)\n",
        "\n",
        "report = classification_report(y_test, y_pred, target_names=['Class 0', 'Class 1'])\n",
        "\n",
        "print(report)\n",
        "\n"
      ]
    },
    {
      "cell_type": "markdown",
      "id": "9c8a9d85",
      "metadata": {
        "id": "9c8a9d85"
      },
      "source": [
        "# Logistic Regression with SMOTE + Re-Weighting"
      ]
    },
    {
      "cell_type": "markdown",
      "id": "07e31789",
      "metadata": {
        "id": "07e31789"
      },
      "source": [
        "<p><font color='blue'>Graded cell &#9658;</font></p>"
      ]
    },
    {
      "cell_type": "code",
      "execution_count": null,
      "id": "552eb167",
      "metadata": {
        "id": "552eb167",
        "outputId": "52ca24e4-2f75-4b4f-b4a2-c948ac11d2a4"
      },
      "outputs": [
        {
          "name": "stdout",
          "output_type": "stream",
          "text": [
            "              precision    recall  f1-score   support\n",
            "\n",
            "     Class 0       0.89      0.77      0.83        75\n",
            "     Class 1       0.71      0.85      0.77        48\n",
            "\n",
            "    accuracy                           0.80       123\n",
            "   macro avg       0.80      0.81      0.80       123\n",
            "weighted avg       0.82      0.80      0.81       123\n",
            "\n"
          ]
        }
      ],
      "source": [
        "X_train, X_test, y_train, y_test = train_test_split(X, y, test_size=0.2, random_state=531)\n",
        "\n",
        "smote = SMOTE(random_state=531)\n",
        "X_train_smote, y_train_smote = smote.fit_resample(X_train, y_train)\n",
        "\n",
        "# SMOTE data with re-weighting\n",
        "model_with_reweighting = LogisticRegression(class_weight='balanced')\n",
        "model_with_reweighting.fit(X_train_smote, y_train_smote)\n",
        "\n",
        "y_pred_reweighting = model_with_reweighting.predict(X_test)\n",
        "\n",
        "report_reweighting = classification_report(y_test, y_pred_reweighting, target_names=['Class 0', 'Class 1'])\n",
        "\n",
        "print(report_reweighting)"
      ]
    },
    {
      "cell_type": "markdown",
      "id": "e08c5c0f",
      "metadata": {
        "id": "e08c5c0f"
      },
      "source": [
        "# Aggregate Classification Reports for Comparison"
      ]
    },
    {
      "cell_type": "markdown",
      "id": "4959fa0b",
      "metadata": {
        "id": "4959fa0b"
      },
      "source": [
        "<p><font color='blue'>Graded cell &#9658;</font></p>"
      ]
    },
    {
      "cell_type": "code",
      "execution_count": null,
      "id": "eeb412c9",
      "metadata": {
        "id": "eeb412c9",
        "outputId": "904dcc59-5693-4a4c-a2fa-9994ca95db59"
      },
      "outputs": [
        {
          "name": "stdout",
          "output_type": "stream",
          "text": [
            "\n",
            "Baseline Logistic Regression Report:\n",
            "              precision    recall  f1-score   support\n",
            "\n",
            "     Class 0       0.89      0.77      0.83        75\n",
            "     Class 1       0.71      0.85      0.77        48\n",
            "\n",
            "    accuracy                           0.80       123\n",
            "   macro avg       0.80      0.81      0.80       123\n",
            "weighted avg       0.82      0.80      0.81       123\n",
            "\n",
            "\n",
            "Logistic Regression with SMOTE Report:\n",
            "SMOTE(random_state=531)\n",
            "\n",
            "Logistic Regression with SMOTE + Re-Weighting Report:\n",
            "              precision    recall  f1-score   support\n",
            "\n",
            "     Class 0       0.89      0.77      0.83        75\n",
            "     Class 1       0.71      0.85      0.77        48\n",
            "\n",
            "    accuracy                           0.80       123\n",
            "   macro avg       0.80      0.81      0.80       123\n",
            "weighted avg       0.82      0.80      0.81       123\n",
            "\n",
            "\n"
          ]
        }
      ],
      "source": [
        "# Combining the reports into a single summary\n",
        "combined_report = f\"\"\"\n",
        "Baseline Logistic Regression Report:\n",
        "{report}\n",
        "\n",
        "Logistic Regression with SMOTE Report:\n",
        "{smote}\n",
        "\n",
        "Logistic Regression with SMOTE + Re-Weighting Report:\n",
        "{report_reweighting}\n",
        "\"\"\"\n",
        "\n",
        "print(combined_report)\n"
      ]
    },
    {
      "cell_type": "markdown",
      "id": "88ab0f90",
      "metadata": {
        "id": "88ab0f90"
      },
      "source": [
        "### Q5. Briefly discuss the techniques used to address dataset imbalance and bias. What are the advantages and limitations of each method?"
      ]
    },
    {
      "cell_type": "markdown",
      "id": "5f824496",
      "metadata": {
        "id": "5f824496"
      },
      "source": [
        "### 1. Baseline Logistic Regression\n",
        "**Advantages:**\n",
        "- **Simplicity:** Logistic regression is super straightforward to implement and interpret which makes it a good baseline to understand the dataset's initial state.\n",
        "- **Efficiency:** It's computationally less expensive compared to more complex models, allowing for quick iteration.\n",
        "\n",
        "**Limitations:**\n",
        "- **Performance on Imbalanced Data:** Without adjustments, logistic regression might not perform well on imbalanced datasets, as it could be biased towards the majority class.\n",
        "- **Assumption of Linearity:** The model assumes a linear relationship between the independent variables and the log odds of the dependent variable, which might not always be true.\n",
        "\n",
        "### 2. SMOTE\n",
        "**Advantages:**\n",
        "- **Balancing Classes:** By generating synthetic examples of the minority class, SMOTE helps balance the dataset, that can potentially improve model performance on minority classes.\n",
        "- **Enhanced Decision Boundary:** With more examples of the minority class the model can learn a better decision boundary between the classes.\n",
        "\n",
        "**Limitations:**\n",
        "- **Overfitting:** There's a risk of overfitting to the minority class, as synthetic samples may overemphasize specific patterns that aren't as prevalent in the real-world data.\n",
        "- **Complexity in High Dimensions:** In datasets with high dimensionality, generating meaningful synthetic samples becomes challenging and can lead to poorer model performance.\n",
        "\n",
        "### 3. Logistic Regression with SMOTE + Re-Weighting\n",
        "**Advantages:**\n",
        "- **Balanced Attention:** Combining SMOTE with re-weighting ensures that the model pays balanced attention to both classes, potentially leading to more equitable predictions.\n",
        "- **Customizability:** Re-weighting allows for customization based on the importance or cost of misclassifications, offering a tailored approach to addressing bias.\n",
        "\n",
        "**Limitations:**\n",
        "- **Parameter Sensitivity:** Finding the right balance with re-weighting requires careful tuning, and the optimal parameters might vary significantly between datasets.\n",
        "- **Increased Complexity:** The combination of techniques adds layers of complexity to the modeling process, requiring more computational resources and potentially making the model harder to explain."
      ]
    },
    {
      "cell_type": "markdown",
      "id": "142c932d",
      "metadata": {
        "id": "142c932d"
      },
      "source": [
        "### Q6. What are the impacts of bias and imbalance on model performance? How do imbalanced and biased datasets affect the performance of machine learning models?"
      ]
    },
    {
      "cell_type": "markdown",
      "id": "b44ad094",
      "metadata": {
        "id": "b44ad094"
      },
      "source": [
        "Response:\n",
        "\n",
        "Bias and imbalance in datasets can significantly impair the performance of machine learning models by skewing their predictions and affecting their generalizability. In the context of imbalanced datasets models are ussually biased towards the majority class, leading to higher prediction accuracy for the majority class at the expense of the minority class. This is because the model has been exposed to more examples of the majority class during training and thus learns to predict these more frequently, potentially overlooking the minority class. This can result in a model that performs well according to overall accuracy metrics but poorly in terms of precision, recall, and F1 score for the underrepresented class. Similarly, biased datasets can cause models to learn and perpetuate these biases, leading to unfair or discriminatory outcomes. For example, if a loan approval model is trained on data where a certain demographic group is underrepresented or historically disadvantaged, the model may unjustly favor or disfavor loan approvals for individuals from that group. Consequently, bias and imbalance not only affect the fairness and equity of model predictions but also compromise the model's ability to make accurate predictions across diverse scenarios, limiting its usefulness in real-world applications."
      ]
    },
    {
      "cell_type": "markdown",
      "id": "199dcce4",
      "metadata": {
        "id": "199dcce4"
      },
      "source": [
        "### Q7. How might a model might perform well in terms of accuracy but still be biased?"
      ]
    },
    {
      "cell_type": "markdown",
      "id": "db67deed",
      "metadata": {
        "id": "db67deed"
      },
      "source": [
        "Response:\n",
        "\n",
        "A model may exhibit high overall accuracy but still harbor bias due to the nature of how accuracy is calculated and the underlying distribution of the dataset. Accuracy measures the proportion of true results (both true positives and true negatives) among the total number of cases examined. In a dataset with significant class imbalance, where one class vastly outnumbers the other, a model can achieve high accuracy simply by predicting the majority class for all instances. For example, in a loan approval dataset where the vast majority of applicants are approved (the majority class), a model that naively approves every application will still have high accuracy, despite completely ignoring the minority class (those not approved). This scenario overlooks the model's ability to accurately predict outcomes for the underrepresented class, potentially masking discriminatory biases against specific groups. Therefore, while the model appears to perform well based on overall accuracy, it fails to capture the nuanced, equitable decision-making required in sensitive applications, reflecting inherent bias in its predictions. This discrepancy underscores the importance of evaluating models with a range of metrics, including those that specifically assess performance across different classes, to ensure fairness and avoid misleading conclusions about model efficacy."
      ]
    },
    {
      "cell_type": "markdown",
      "id": "e0fa1dc9",
      "metadata": {
        "id": "e0fa1dc9"
      },
      "source": [
        "### Q8. After examination and comparison of the classification reports, what are the key findings? If you were tasked with choosing one model to use in a real-world application, which one would you choose, and why?"
      ]
    },
    {
      "cell_type": "markdown",
      "id": "976142cd",
      "metadata": {
        "id": "976142cd"
      },
      "source": [
        "Response:\n",
        "\n",
        "1. **Improvement in Minority Class Prediction:** The application of SMOTE, either alone or in combination with re-weighting, aims to improve the model's performance on the minority class. This is reflected in the increased recall for the minority class (Class 1) in the reports, indicating a better ability to correctly identify positive cases.\n",
        "\n",
        "2. **Balanced Performance Metrics:** The use of SMOTE and re-weighting techniques tends to balance the performance metrics across classes. This includes precision, recall, and the F1-score, suggesting a more equitable model that performs well across different segments of the data.\n",
        "\n",
        "3. **Trade-off Between Precision and Recall:** There is often a trade-off between precision and recall, especially in the minority class. Techniques like SMOTE may increase recall but at the potential cost of reducing precision, which indicates a higher false positive rate. The combined approach of SMOTE and re-weighting seeks to balance this trade-off.\n",
        "\n",
        "If tasked with choosing one model for a real-world application, particularly in sensitive areas like loan approval, the model trained with **Logistic Regression with SMOTE + Re-Weighting** would be the most prudent choice. This selection is based on several considerations:\n",
        "\n",
        "- **Balanced Accuracy:** This model demonstrates an improvement in handling imbalanced classes, evidenced by more balanced precision, recall, and F1-scores across classes compared to the baseline. Such balanced performance is crucial in applications where fairness and equity are paramount.\n",
        "  \n",
        "- **Ethical Considerations:** Given the societal and personal impact of loan approval decisions, ensuring that the model does not perpetuate existing biases is of utmost importance. The combination of SMOTE and re-weighting addresses both the issue of class imbalance and the potential for biased decision-making, making the model not only more accurate but also fairer.\n"
      ]
    },
    {
      "cell_type": "markdown",
      "id": "35295435",
      "metadata": {
        "id": "35295435"
      },
      "source": [
        "### Q9. Which ethical considerations should be taken into account when attempting to correct for bias in a dataset?"
      ]
    },
    {
      "cell_type": "markdown",
      "id": "8ef767bd",
      "metadata": {
        "id": "8ef767bd"
      },
      "source": [
        "Response:\n",
        "\n",
        "When attempting to correct for bias in a dataset, several ethical considerations must be taken into account to ensure the responsible development and deployment of AI systems. Firstly, transparency is paramount; it's essential to document and communicate the steps taken to identify and mitigate biases, including the methodologies used and their potential limitations. This enables trust among stakeholders and allows for external verification (peer reviewed) of the fairness of the algorithms. Secondly, the concept of fairness must be carefully examined, as different stakeholders may have varying definitions of what constitutes fair treatment. Balancing these perspectives and striving for an equitable approach that minimally disadvantages any group is crucial. Moreover, privacy concerns arise when manipulating data to correct for bias, especially if sensitive attributes are involved. Ensuring that efforts to debias data do not inadvertently compromise individual privacy is vital. Additionally, there's a risk of overcorrection, where attempts to neutralize bias might lead to reverse discrimination, further emphasizing the need for a nuanced approach. Finally, the broader societal implications of bias correction must be considered, including how these efforts impact public perceptions of AI and trust in technological solutions. Ethically correcting for bias requires a multifaceted approach that goes beyond technical fixes, demanding ongoing dialogue with affected communities, continuous monitoring of outcomes, and the flexibility to adapt strategies as new insights emerge."
      ]
    },
    {
      "cell_type": "markdown",
      "id": "012c048c",
      "metadata": {
        "id": "012c048c"
      },
      "source": [
        "### Q10 Discuss the trade-offs between model accuracy and fairness. How might the pursuit of fairness in a dataset conflict with other data science goals? When might it be more important to prioritize one over the other? How would you make a decision about the acceptable level of trade-off in a real-world scenario?"
      ]
    },
    {
      "cell_type": "markdown",
      "id": "f8ff8664",
      "metadata": {
        "id": "f8ff8664"
      },
      "source": [
        "Response [Trade-offs: Model Accuracy & Fairness]:\n",
        "\n",
        "The trade-off between model accuracy and fairness often arises because optimizing for one can detrimentally affect the other. High accuracy often means the model performs well on the majority class but may neglect minority classes, especially in imbalanced datasets, leading to unfair outcomes. Conversely, efforts to increase fairness, such as through re-weighting or synthetic data generation, can sometimes reduce overall accuracy by forcing the model to pay more attention to less represented or more challenging cases. Balancing this trade-off requires a nuanced approach, recognizing that maximum accuracy might not always equate to the most equitable or most just outcomes for all individuals."
      ]
    },
    {
      "cell_type": "markdown",
      "id": "cc73b846",
      "metadata": {
        "id": "cc73b846"
      },
      "source": [
        "Response [Goals Conflict & Prioritization]:\n",
        "\n",
        "The pursuit of fairness in datasets may conflict with other data science goals like maximizing precision, recall, or overall model performance on current metrics. As an example, a financial institution might aim for a model that predicts loan defaults with high accuracy to minimize risk. The issue being, prioritizing accuracy alone may perpetuate historical biases against certain demographic groups. Deciding when to prioritize fairness over other goals involves ethical considerations, the context of the model’s application, and the potential impact on affected individuals and groups. In some scenarios, such as healthcare or criminal justice, the importance of fairness and avoiding bias may outweigh the need for sheer predictive accuracy due to the profound implications on individuals' lives."
      ]
    },
    {
      "cell_type": "markdown",
      "id": "ff8fa064",
      "metadata": {
        "id": "ff8fa064"
      },
      "source": [
        "Response [Decision on Acceptable Trade-Off]:\n",
        "\n",
        "Making a decision about the acceptable level of trade-off between accuracy and fairness in a real-world scenario requires a multidisciplinary approach -- involving not just data scientists but also stakeholders, ethicists, and potentially the affected (often minority) populations. It involves assessing the impact of potential biases, the consequences of decisions made by the model, and the societal norms and values that the model's use supports or undermines. One approach is to set minimum thresholds for fairness metrics that must be met regardless of the impact on accuracy, ensuring that the model does not exacerbate inequalities. Additionally, continuous monitoring and feedback loops can be established to adjust these thresholds as societal norms evolve or more is understood about the model's impact. Ultimately, the acceptable trade-off is often context-dependent, requiring careful consideration of the specific application and its implications for fairness and equity in society."
      ]
    }
  ],
  "metadata": {
    "kernelspec": {
      "display_name": "Python 3 (ipykernel)",
      "language": "python",
      "name": "python3"
    },
    "language_info": {
      "codemirror_mode": {
        "name": "ipython",
        "version": 3
      },
      "file_extension": ".py",
      "mimetype": "text/x-python",
      "name": "python",
      "nbconvert_exporter": "python",
      "pygments_lexer": "ipython3",
      "version": "3.11.4"
    },
    "colab": {
      "provenance": [],
      "include_colab_link": true
    }
  },
  "nbformat": 4,
  "nbformat_minor": 5
}